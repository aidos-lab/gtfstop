{
  "cells": [
    {
      "cell_type": "code",
      "execution_count": null,
      "metadata": {
        "id": "R6ct7rza34og"
      },
      "outputs": [],
      "source": [
        "!pip install peartree\n",
        "!pip install osmnx\n",
        "!pip install ripser\n",
        "!pip install persim\n",
        "!pip install folium"
      ]
    },
    {
      "cell_type": "code",
      "execution_count": 2,
      "metadata": {
        "colab": {
          "base_uri": "https://localhost:8080/"
        },
        "id": "GnJVa0w74F4A",
        "outputId": "48123060-79b8-45b2-e9d8-9006b1ef3350"
      },
      "outputs": [
        {
          "output_type": "stream",
          "name": "stdout",
          "text": [
            "Mounted at /content/drive\n"
          ]
        }
      ],
      "source": [
        "from google.colab import drive\n",
        "drive.mount(\"/content/drive\")"
      ]
    },
    {
      "cell_type": "code",
      "execution_count": 4,
      "metadata": {
        "id": "QD0wWPAr4GWc"
      },
      "outputs": [],
      "source": [
        "import peartree as pt\n",
        "import matplotlib.pyplot as plt\n",
        "import osmnx as ox\n",
        "import networkx as nx\n",
        "import numpy as np\n",
        "import os\n",
        "import pandas as pd\n",
        "import csv\n",
        "from ripser import ripser\n",
        "from persim import plot_diagrams\n",
        "import math\n",
        "import requests\n",
        "import time\n",
        "import folium\n",
        "from IPython.display import display\n",
        "%matplotlib inline"
      ]
    },
    {
      "cell_type": "code",
      "execution_count": 5,
      "metadata": {
        "id": "-Iytoar-6Qri"
      },
      "outputs": [],
      "source": [
        "path = '/content/drive/MyDrive/GTFS/Local_Transit'"
      ]
    },
    {
      "cell_type": "code",
      "source": [
        "def haversine_distance(coord1, coord2):\n",
        "    lat1, lon1 = coord1\n",
        "    lat2, lon2 = coord2\n",
        "    radius = 6371.0  # Earth's radius in kilometers\n",
        "\n",
        "    dlat = math.radians(lat2 - lat1)\n",
        "    dlon = math.radians(lon2 - lon1)\n",
        "    a = math.sin(dlat / 2) ** 2 + math.cos(math.radians(lat1)) * math.cos(math.radians(lat2)) * math.sin(dlon / 2) ** 2\n",
        "    c = 2 * math.atan2(math.sqrt(a), math.sqrt(1 - a))\n",
        "    distance = radius * c\n",
        "\n",
        "    return distance\n",
        "\n",
        "def create_transit_graph(path, lat_range, lon_range):\n",
        "\n",
        "    # Initialize the graph\n",
        "    transit_graph = nx.DiGraph()\n",
        "\n",
        "    #Create dictionaries to store stop, parent and trip information\n",
        "    stop_dict = {}\n",
        "    parent_station_dict = {}\n",
        "    trip_to_previous_stop = {}\n",
        "\n",
        "    # Load stops.txt to populate the dictionaries\n",
        "    stops_file = open(path + '/stops.txt', 'r', encoding='utf-8-sig')\n",
        "    stops_reader = csv.reader(stops_file)\n",
        "    next(stops_reader)  # Skip the header row\n",
        "\n",
        "    for stop in stops_reader:\n",
        "        stop_id = stop[2]\n",
        "        latitude = float(stop[3])\n",
        "        longitude = float(stop[4])\n",
        "\n",
        "        if lat_range[0] <= latitude <= lat_range[1] and lon_range[0] <= longitude <= lon_range[1]:\n",
        "            stop_name = stop[0]\n",
        "            stop_dict[stop_id] = (stop_name, latitude, longitude)\n",
        "            parent_station = stop[1]\n",
        "            if parent_station:\n",
        "                parent_station_dict[stop_id] = parent_station\n",
        "\n",
        "    # Load stop_times.txt to create nodes and edges in the transit graph\n",
        "    stop_times_file = open(path + '/stop_times.txt', 'r', encoding='utf-8-sig')\n",
        "    stop_times_reader = csv.reader(stop_times_file)\n",
        "    next(stop_times_reader)  # Skip the header row\n",
        "\n",
        "    for stop_time in stop_times_reader:\n",
        "        trip_id = stop_time[0]\n",
        "        stop_id = stop_time[3]\n",
        "\n",
        "        # Connect stops based on the same trip\n",
        "        if stop_id in stop_dict:\n",
        "            transit_graph.add_node(stop_id)\n",
        "\n",
        "            previous_stop_id = trip_to_previous_stop.get(trip_id)\n",
        "            if previous_stop_id:\n",
        "                edge_weight = haversine_distance(\n",
        "                    (stop_dict[previous_stop_id][1], stop_dict[previous_stop_id][2]),\n",
        "                    (stop_dict[stop_id][1], stop_dict[stop_id][2])\n",
        "                )\n",
        "                transit_graph.add_edge(previous_stop_id, stop_id, weight=edge_weight)\n",
        "            trip_to_previous_stop[trip_id] = stop_id\n",
        "\n",
        "            parent_station = parent_station_dict.get(stop_id)\n",
        "            if parent_station and parent_station in stop_dict:\n",
        "                edge_weight = haversine_distance(\n",
        "                    (stop_dict[parent_station][1], stop_dict[parent_station][2]),\n",
        "                    (stop_dict[stop_id][1], stop_dict[stop_id][2])\n",
        "                )\n",
        "                transit_graph.add_edge(parent_station, stop_id, weight=edge_weight)\n",
        "\n",
        "    # Close the GTFS files\n",
        "    stops_file.close()\n",
        "    stop_times_file.close()\n",
        "\n",
        "    return transit_graph, stop_dict\n"
      ],
      "metadata": {
        "id": "cmTpKC31pO7J"
      },
      "execution_count": 6,
      "outputs": []
    },
    {
      "cell_type": "markdown",
      "source": [
        "Verification of networks using Folium"
      ],
      "metadata": {
        "id": "5lKMCAEtlPzQ"
      }
    },
    {
      "cell_type": "code",
      "source": [
        "def plot_transit_graph_on_map(transit_graph, stop_dict, city_name, path):\n",
        "    \"\"\"Plot the transit graph on a map and display it.\"\"\"\n",
        "\n",
        "    #Calculation of average latitude and longitude of city networks to verify for correctness and to center the folium map around the average lat, lon\n",
        "    avg_lat = sum([coords[1] for coords in stop_dict.values()]) / len(stop_dict)\n",
        "    avg_lon = sum([coords[2] for coords in stop_dict.values()]) / len(stop_dict)\n",
        "    print(avg_lat,avg_lon)\n",
        "    m = folium.Map(location=[avg_lat, avg_lon], zoom_start=13)\n",
        "\n",
        "    #Adding nodes (stops) to the folium map\n",
        "    for stop_id, (stop_name, lat, lon) in stop_dict.items():\n",
        "        folium.CircleMarker(\n",
        "            location=[lat, lon],\n",
        "            radius=5,\n",
        "            color=\"red\",\n",
        "            fill=True,\n",
        "            fill_color=\"red\",\n",
        "            fill_opacity=1,\n",
        "            tooltip=stop_name\n",
        "        ).add_to(m)\n",
        "\n",
        "    #Adding edges (routes) to the folium map\n",
        "    for edge in transit_graph.edges():\n",
        "        coord1 = stop_dict[edge[0]][1], stop_dict[edge[0]][2]\n",
        "        coord2 = stop_dict[edge[1]][1], stop_dict[edge[1]][2]\n",
        "        folium.PolyLine([coord1, coord2], color=\"blue\").add_to(m)\n",
        "\n",
        "    # Save the map to an HTML file\n",
        "    filename = os.path.join(path, f\"{city_name}_transit_map.html\")\n",
        "    m.save(filename)\n",
        "    print(f\"Saved map for {city_name} to {filename}\")\n",
        "\n",
        "    return m"
      ],
      "metadata": {
        "id": "oqi6zLkNyDEY"
      },
      "execution_count": 7,
      "outputs": []
    },
    {
      "cell_type": "code",
      "source": [
        "city_lat_lon_ranges = {\n",
        "    'Aachen': ((50.7, 50.8), (6.0, 6.2)),\n",
        "    'Berlin': ((52.3, 52.7), (13.2, 13.6)),\n",
        "    'Frankfurt': ((50.0, 50.2), (8.6, 9.0)),\n",
        "    'Hamburg': ((53.4, 53.7), (9.8, 10.2)),\n",
        "    'Leipzig': ((51.2, 51.5), (12.2, 12.7)),\n",
        "    'Munich': ((48.0610, 48.2480), (11.3600, 11.7220)),\n",
        "    'Cologne': ((50.8300, 51.0500), (6.7900, 7.1100)),\n",
        "    'Stuttgart': ((48.6900, 48.8600), (9.1200, 9.3100)),\n",
        "    'Dortmund': ((51.4200, 51.6000), (7.3400, 7.6500)),\n",
        "    'Duesseldorf': ((51.1500, 51.3100), (6.6500, 6.9800))\n",
        "}\n",
        "\n",
        "\n",
        "#Plot the networks and the respective persistence diagrams\n",
        "for city_name, (lat_range, lon_range) in city_lat_lon_ranges.items():\n",
        "    transit_graph, stops = create_transit_graph(path, lat_range, lon_range)\n",
        "    #plot_transit_graph_on_map(transit_graph, stops, city_name, path)\n",
        "\n",
        "    '''\n",
        "    print(f\"Map for {city_name}\")\n",
        "    m.save(f\"{city_name}_map.html\")  # Saves the map as an HTML file\n",
        "    display(m)\n",
        "    '''"
      ],
      "metadata": {
        "id": "GZeOB53jyo2x"
      },
      "execution_count": null,
      "outputs": []
    },
    {
      "cell_type": "markdown",
      "source": [
        "Euler curves"
      ],
      "metadata": {
        "id": "pAGHvOGPxsgv"
      }
    },
    {
      "cell_type": "code",
      "source": [
        "def normalise(values):\n",
        "    min_val = min(values)\n",
        "    max_val = max(values)\n",
        "\n",
        "    range = max_val - min_val\n",
        "\n",
        "    return [(val-min_val)/range for val in values]\n",
        "\n",
        "def euler_char(graph):\n",
        "    return graph.number_of_nodes() - graph.number_of_edges()\n",
        "\n",
        "def filtration_by_edge_weight(graph, steps=100):\n",
        "    edge_weights = [data['weight'] for _, _, data in graph.edges(data=True)]\n",
        "    min_weight = min(edge_weights)\n",
        "    max_weight = max(edge_weights)\n",
        "\n",
        "    thresholds = np.linspace(min_weight, max_weight, steps)\n",
        "    euler_chars = []\n",
        "\n",
        "    for threshold in thresholds:\n",
        "        subgraph_edges = [(u, v) for u, v, data in graph.edges(data=True) if data['weight'] <= threshold]\n",
        "        subgraph = nx.Graph()\n",
        "        subgraph.add_edges_from(subgraph_edges)\n",
        "        euler_chars.append(euler_char(subgraph))\n",
        "\n",
        "    #Normalizing the euler chars and threshold values\n",
        "    thresholds_norm = normalise(thresholds)\n",
        "    euler_chars_norm = normalise(euler_chars)\n",
        "\n",
        "    return thresholds_norm, euler_chars_norm"
      ],
      "metadata": {
        "id": "U8SjaLIYouE2"
      },
      "execution_count": 8,
      "outputs": []
    },
    {
      "cell_type": "code",
      "source": [
        "city_lat_lon_ranges = {\n",
        "    'Aachen': ((50.7, 50.8), (6.0, 6.2)),\n",
        "    'Berlin': ((52.3, 52.7), (13.2, 13.6)),\n",
        "    'Frankfurt': ((50.0, 50.2), (8.6, 9.0)),\n",
        "    'Hamburg': ((53.4, 53.7), (9.8, 10.2)),\n",
        "    'Leipzig': ((51.2, 51.5), (12.2, 12.7)),\n",
        "    'Munich': ((48.0610, 48.2480), (11.3600, 11.7220)),\n",
        "    'Cologne': ((50.8300, 51.0500), (6.7900, 7.1100)),\n",
        "    'Stuttgart': ((48.6900, 48.8600), (9.1200, 9.3100)),\n",
        "    'Dortmund': ((51.4200, 51.6000), (7.3400, 7.6500)),\n",
        "    'Duesseldorf': ((51.1500, 51.3100), (6.6500, 6.9800))\n",
        "}\n",
        "\n",
        "#Initialize plot dimensions\n",
        "plt.figure(figsize=(10, 6))\n",
        "\n",
        "#Plot the networks and the respective persistence diagrams\n",
        "for city_name, (lat_range, lon_range) in city_lat_lon_ranges.items():\n",
        "    transit_graph, stops = create_transit_graph(path, lat_range, lon_range)\n",
        "\n",
        "    thresholds, euler_chars = filtration_by_edge_weight(transit_graph)\n",
        "    plt.plot(thresholds, euler_chars, label=city_name)\n",
        "\n",
        "plt.xlabel('Edge Weight Threshold')\n",
        "plt.ylabel('Euler Characteristic')\n",
        "plt.title('Euler Curves for All Cities')\n",
        "plt.legend()\n",
        "plt.grid(True)\n",
        "#plt.axis('equal')\n",
        "#plt.tight_layout()\n",
        "\n",
        "#Plot on the same coordinate system\n",
        "plt.show()"
      ],
      "metadata": {
        "id": "foxMaE8ooQjr",
        "colab": {
          "base_uri": "https://localhost:8080/",
          "height": 564
        },
        "outputId": "cddb5a40-952a-4f99-a67d-d5a228615bc7"
      },
      "execution_count": 9,
      "outputs": [
        {
          "output_type": "display_data",
          "data": {
            "text/plain": [
              "<Figure size 1000x600 with 1 Axes>"
            ],
            "image/png": "[encoded data removed]"
          },
          "metadata": {}
        }
      ]
    },
    {
      "cell_type": "markdown",
      "source": [
        "Creating a Pytorch Geometric Dataset"
      ],
      "metadata": {
        "id": "iFP6TNZQ49jH"
      }
    },
    {
      "cell_type": "code",
      "source": [
        "!pip install torch_geometric"
      ],
      "metadata": {
        "id": "_MobKcC0319q"
      },
      "execution_count": null,
      "outputs": []
    },
    {
      "cell_type": "code",
      "source": [
        "import torch\n",
        "from torch_geometric.data import Data, Dataset\n",
        "from torch_geometric.data import InMemoryDataset\n",
        "\n",
        "import networkx as nx\n",
        "\n",
        "def nx_to_pyg_data(graph):\n",
        "    \"\"\"\n",
        "    Convert a networkx graph to a PyTorch Geometric Data object using only the edge weights as features.\n",
        "    \"\"\"\n",
        "    # Create a mapping from nodes to integers\n",
        "    node_mapping = {node: i for i, node in enumerate(graph.nodes())}\n",
        "\n",
        "    # Get the adjacency information with remapped node indices\n",
        "    edge_index = torch.tensor([(node_mapping[u], node_mapping[v]) for u, v in graph.edges()]).t().contiguous()\n",
        "\n",
        "    # Extract edge weights\n",
        "    edge_weights = [data['weight'] for _, _, data in graph.edges(data=True)]\n",
        "    edge_attr = torch.tensor(edge_weights, dtype=torch.float).unsqueeze(1)  # make it a 2D tensor\n",
        "\n",
        "    # Return as PyTorch Geometric Data\n",
        "    return Data(edge_index=edge_index, edge_attr=edge_attr, num_nodes=graph.number_of_nodes())\n",
        "\n",
        "class MyOwnDataset(InMemoryDataset):\n",
        "    def __init__(self, root, nx_graphs, transform=None, pre_transform=None, pre_filter=None):\n",
        "        self.nx_graphs = nx_graphs\n",
        "        super().__init__(root, transform, pre_transform, pre_filter)\n",
        "        self.data, self.slices = torch.load(self.processed_paths[0])\n",
        "\n",
        "    @property\n",
        "    def raw_file_names(self):\n",
        "        return []  # We're directly passing in NetworkX graphs so we don't need raw file names\n",
        "\n",
        "    @property\n",
        "    def processed_file_names(self):\n",
        "        return ['data.pt']\n",
        "\n",
        "    def download(self):\n",
        "        # No downloading needed as we're directly passing in NetworkX graphs\n",
        "        pass\n",
        "\n",
        "    def process(self):\n",
        "        # Convert the NetworkX graphs to PyTorch Geometric Data objects\n",
        "        data_list = [nx_to_pyg_data(graph) for graph in self.nx_graphs]\n",
        "\n",
        "        if self.pre_filter is not None:\n",
        "            data_list = [data for data in data_list if self.pre_filter(data)]\n",
        "\n",
        "        if self.pre_transform is not None:\n",
        "            data_list = [self.pre_transform(data) for data in data_list]\n",
        "\n",
        "        data, slices = self.collate(data_list)\n",
        "        torch.save((data, slices), self.processed_paths[0])"
      ],
      "metadata": {
        "id": "lu1DddiK3zEV"
      },
      "execution_count": 57,
      "outputs": []
    },
    {
      "cell_type": "code",
      "source": [
        "city_lat_lon_ranges = {\n",
        "    'Aachen': ((50.7, 50.8), (6.0, 6.2)),\n",
        "    'Berlin': ((52.3, 52.7), (13.2, 13.6)),\n",
        "    'Frankfurt': ((50.0, 50.2), (8.6, 9.0)),\n",
        "    'Hamburg': ((53.4, 53.7), (9.8, 10.2)),\n",
        "    'Leipzig': ((51.2, 51.5), (12.2, 12.7)),\n",
        "    'Munich': ((48.0610, 48.2480), (11.3600, 11.7220)),\n",
        "    'Cologne': ((50.8300, 51.0500), (6.7900, 7.1100)),\n",
        "    'Stuttgart': ((48.6900, 48.8600), (9.1200, 9.3100)),\n",
        "    'Dortmund': ((51.4200, 51.6000), (7.3400, 7.6500)),\n",
        "    'Duesseldorf': ((51.1500, 51.3100), (6.6500, 6.9800))\n",
        "}\n",
        "\n",
        "city_graphs = []\n",
        "\n",
        "#Plot the networks and the respective persistence diagrams\n",
        "for city_name, (lat_range, lon_range) in city_lat_lon_ranges.items():\n",
        "    transit_graph, stops = create_transit_graph(path, lat_range, lon_range)\n",
        "    city_graphs.append(transit_graph)\n",
        "\n",
        "\n",
        "dataset = MyOwnDataset(root = path, nx_graphs = city_graphs)"
      ],
      "metadata": {
        "id": "epmSRiMX4_N-"
      },
      "execution_count": 58,
      "outputs": []
    },
    {
      "cell_type": "code",
      "source": [
        "len(dataset)"
      ],
      "metadata": {
        "colab": {
          "base_uri": "https://localhost:8080/"
        },
        "id": "W4XS0muC2oGY",
        "outputId": "ce2f7984-cd71-47b2-87b9-a61b60810710"
      },
      "execution_count": 59,
      "outputs": [
        {
          "output_type": "execute_result",
          "data": {
            "text/plain": [
              "10"
            ]
          },
          "metadata": {},
          "execution_count": 59
        }
      ]
    },
    {
      "cell_type": "code",
      "source": [
        "data = dataset[0]\n",
        "print(data)"
      ],
      "metadata": {
        "colab": {
          "base_uri": "https://localhost:8080/"
        },
        "id": "Nbgfy9Sr56dU",
        "outputId": "f3250d70-2e14-4883-94a5-9b2a13485331"
      },
      "execution_count": 60,
      "outputs": [
        {
          "output_type": "stream",
          "name": "stdout",
          "text": [
            "Data(edge_index=[2, 2309], edge_attr=[2309, 1])\n"
          ]
        }
      ]
    },
    {
      "cell_type": "code",
      "source": [
        "data = dataset[1]\n",
        "print(data)"
      ],
      "metadata": {
        "colab": {
          "base_uri": "https://localhost:8080/"
        },
        "id": "7uMWQ7Fu8o6W",
        "outputId": "96850145-bcfc-4ae5-d54e-a041f00bedae"
      },
      "execution_count": 61,
      "outputs": [
        {
          "output_type": "stream",
          "name": "stdout",
          "text": [
            "Data(edge_index=[2, 16341], edge_attr=[16341, 1])\n"
          ]
        }
      ]
    },
    {
      "cell_type": "code",
      "source": [
        "data.num_nodes"
      ],
      "metadata": {
        "colab": {
          "base_uri": "https://localhost:8080/"
        },
        "id": "U7jlOfR11y23",
        "outputId": "40242cb6-3643-4738-d934-c75b88e03895"
      },
      "execution_count": 63,
      "outputs": [
        {
          "output_type": "execute_result",
          "data": {
            "text/plain": [
              "10059"
            ]
          },
          "metadata": {},
          "execution_count": 63
        }
      ]
    },
    {
      "cell_type": "code",
      "source": [
        "data.num_edges"
      ],
      "metadata": {
        "colab": {
          "base_uri": "https://localhost:8080/"
        },
        "id": "DtOywZXm11Rs",
        "outputId": "282d81be-3d0d-4109-8bcd-01ecd70a19bf"
      },
      "execution_count": 64,
      "outputs": [
        {
          "output_type": "execute_result",
          "data": {
            "text/plain": [
              "16341"
            ]
          },
          "metadata": {},
          "execution_count": 64
        }
      ]
    },
    {
      "cell_type": "code",
      "source": [
        "data.has_isolated_nodes()"
      ],
      "metadata": {
        "colab": {
          "base_uri": "https://localhost:8080/"
        },
        "id": "TYDGpQ6D2DDl",
        "outputId": "da8cc33e-5718-4b79-bd4e-bbada049e83b"
      },
      "execution_count": 65,
      "outputs": [
        {
          "output_type": "execute_result",
          "data": {
            "text/plain": [
              "True"
            ]
          },
          "metadata": {},
          "execution_count": 65
        }
      ]
    },
    {
      "cell_type": "code",
      "source": [
        "data.has_self_loops()"
      ],
      "metadata": {
        "colab": {
          "base_uri": "https://localhost:8080/"
        },
        "id": "b0g5gijY2EY1",
        "outputId": "b09af39a-4c12-4491-ab34-25e535524c22"
      },
      "execution_count": 66,
      "outputs": [
        {
          "output_type": "execute_result",
          "data": {
            "text/plain": [
              "True"
            ]
          },
          "metadata": {},
          "execution_count": 66
        }
      ]
    },
    {
      "cell_type": "code",
      "source": [
        "data.num_node_features"
      ],
      "metadata": {
        "colab": {
          "base_uri": "https://localhost:8080/"
        },
        "id": "M5vH8W3E2ZP4",
        "outputId": "f37c19cd-da4f-4db7-e080-221378eaf22d"
      },
      "execution_count": 67,
      "outputs": [
        {
          "output_type": "execute_result",
          "data": {
            "text/plain": [
              "0"
            ]
          },
          "metadata": {},
          "execution_count": 67
        }
      ]
    },
    {
      "cell_type": "code",
      "source": [
        "data.is_directed()"
      ],
      "metadata": {
        "colab": {
          "base_uri": "https://localhost:8080/"
        },
        "id": "lNUl-y8j2dfa",
        "outputId": "d7c80249-5bbb-4c12-f54b-94067c15b04d"
      },
      "execution_count": 68,
      "outputs": [
        {
          "output_type": "execute_result",
          "data": {
            "text/plain": [
              "True"
            ]
          },
          "metadata": {},
          "execution_count": 68
        }
      ]
    },
    {
      "cell_type": "code",
      "source": [
        "dataset.num_classes"
      ],
      "metadata": {
        "colab": {
          "base_uri": "https://localhost:8080/"
        },
        "id": "KIq_ZrbX2mya",
        "outputId": "211fdead-3d20-4442-dda5-7c0a497ba889"
      },
      "execution_count": 69,
      "outputs": [
        {
          "output_type": "execute_result",
          "data": {
            "text/plain": [
              "0"
            ]
          },
          "metadata": {},
          "execution_count": 69
        }
      ]
    },
    {
      "cell_type": "code",
      "source": [
        "from torch_geometric.loader import DataLoader\n",
        "dataset = MyOwnDataset(root = path, nx_graphs = city_graphs)\n",
        "\n",
        "loader = DataLoader(dataset, batch_size=32, shuffle=True)"
      ],
      "metadata": {
        "id": "cvDYjl0e_lYD"
      },
      "execution_count": 70,
      "outputs": []
    },
    {
      "cell_type": "code",
      "source": [
        "for data in loader:\n",
        "    print(data)"
      ],
      "metadata": {
        "colab": {
          "base_uri": "https://localhost:8080/"
        },
        "id": "lBnp66CtUiYF",
        "outputId": "80d5027f-ba43-4501-a48a-75f28ceb4ea1"
      },
      "execution_count": 71,
      "outputs": [
        {
          "output_type": "stream",
          "name": "stdout",
          "text": [
            "DataBatch(edge_index=[2, 73786], edge_attr=[73786, 1], batch=[45855], ptr=[11])\n"
          ]
        }
      ]
    },
    {
      "cell_type": "code",
      "source": [],
      "metadata": {
        "id": "_T-mCUpx8NBR"
      },
      "execution_count": null,
      "outputs": []
    }
  ],
  "metadata": {
    "colab": {
      "provenance": []
    },
    "kernelspec": {
      "display_name": "Python 3",
      "name": "python3"
    },
    "language_info": {
      "name": "python"
    }
  },
  "nbformat": 4,
  "nbformat_minor": 0
}