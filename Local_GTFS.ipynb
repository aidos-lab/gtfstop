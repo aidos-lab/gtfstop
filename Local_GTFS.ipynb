{
  "cells": [
    {
      "cell_type": "code",
      "execution_count": null,
      "metadata": {
        "id": "R6ct7rza34og"
      },
      "outputs": [],
      "source": [
        "!pip install peartree\n",
        "!pip install osmnx\n",
        "!pip install ripser\n",
        "!pip install persim\n",
        "!pip install folium"
      ]
    },
    {
      "cell_type": "code",
      "execution_count": 2,
      "metadata": {
        "colab": {
          "base_uri": "https://localhost:8080/"
        },
        "id": "GnJVa0w74F4A",
        "outputId": "cc1afa6c-f2c0-45a8-d989-5bd79f00c7d1"
      },
      "outputs": [
        {
          "output_type": "stream",
          "name": "stdout",
          "text": [
            "Mounted at /content/drive\n"
          ]
        }
      ],
      "source": [
        "from google.colab import drive\n",
        "drive.mount(\"/content/drive\")"
      ]
    },
    {
      "cell_type": "code",
      "execution_count": 4,
      "metadata": {
        "id": "QD0wWPAr4GWc"
      },
      "outputs": [],
      "source": [
        "import peartree as pt\n",
        "import matplotlib.pyplot as plt\n",
        "import osmnx as ox\n",
        "import networkx as nx\n",
        "import numpy as np\n",
        "import os\n",
        "import pandas as pd\n",
        "import csv\n",
        "from ripser import ripser\n",
        "from persim import plot_diagrams\n",
        "import math\n",
        "import requests\n",
        "import time\n",
        "import folium\n",
        "from IPython.display import display\n",
        "%matplotlib inline"
      ]
    },
    {
      "cell_type": "code",
      "execution_count": 5,
      "metadata": {
        "id": "-Iytoar-6Qri"
      },
      "outputs": [],
      "source": [
        "path = '/content/drive/MyDrive/GTFS/Local_Transit'"
      ]
    },
    {
      "cell_type": "code",
      "source": [
        "def haversine_distance(coord1, coord2):\n",
        "    lat1, lon1 = coord1\n",
        "    lat2, lon2 = coord2\n",
        "    radius = 6371.0  # Earth's radius in kilometers\n",
        "\n",
        "    dlat = math.radians(lat2 - lat1)\n",
        "    dlon = math.radians(lon2 - lon1)\n",
        "    a = math.sin(dlat / 2) ** 2 + math.cos(math.radians(lat1)) * math.cos(math.radians(lat2)) * math.sin(dlon / 2) ** 2\n",
        "    c = 2 * math.atan2(math.sqrt(a), math.sqrt(1 - a))\n",
        "    distance = radius * c\n",
        "\n",
        "    return distance\n",
        "\n",
        "def create_transit_graph(path, lat_range, lon_range):\n",
        "\n",
        "    # Initialize the graph\n",
        "    transit_graph = nx.DiGraph()\n",
        "\n",
        "    #Create dictionaries to store stop, parent and trip information\n",
        "    stop_dict = {}\n",
        "    parent_station_dict = {}\n",
        "    trip_to_previous_stop = {}\n",
        "\n",
        "    # Load stops.txt to populate the dictionaries\n",
        "    stops_file = open(path + '/stops.txt', 'r', encoding='utf-8-sig')\n",
        "    stops_reader = csv.reader(stops_file)\n",
        "    next(stops_reader)  # Skip the header row\n",
        "\n",
        "    for stop in stops_reader:\n",
        "        stop_id = stop[2]\n",
        "        latitude = float(stop[3])\n",
        "        longitude = float(stop[4])\n",
        "\n",
        "        if lat_range[0] <= latitude <= lat_range[1] and lon_range[0] <= longitude <= lon_range[1]:\n",
        "            stop_name = stop[0]\n",
        "            stop_dict[stop_id] = (stop_name, latitude, longitude)\n",
        "            parent_station = stop[1]\n",
        "            if parent_station:\n",
        "                parent_station_dict[stop_id] = parent_station\n",
        "\n",
        "    # Load stop_times.txt to create nodes and edges in the transit graph\n",
        "    stop_times_file = open(path + '/stop_times.txt', 'r', encoding='utf-8-sig')\n",
        "    stop_times_reader = csv.reader(stop_times_file)\n",
        "    next(stop_times_reader)  # Skip the header row\n",
        "\n",
        "    for stop_time in stop_times_reader:\n",
        "        trip_id = stop_time[0]\n",
        "        stop_id = stop_time[3]\n",
        "\n",
        "        # Connect stops based on the same trip\n",
        "        if stop_id in stop_dict:\n",
        "            transit_graph.add_node(stop_id)\n",
        "\n",
        "            previous_stop_id = trip_to_previous_stop.get(trip_id)\n",
        "            if previous_stop_id:\n",
        "                edge_weight = haversine_distance(\n",
        "                    (stop_dict[previous_stop_id][1], stop_dict[previous_stop_id][2]),\n",
        "                    (stop_dict[stop_id][1], stop_dict[stop_id][2])\n",
        "                )\n",
        "                transit_graph.add_edge(previous_stop_id, stop_id, weight=edge_weight)\n",
        "            trip_to_previous_stop[trip_id] = stop_id\n",
        "\n",
        "            parent_station = parent_station_dict.get(stop_id)\n",
        "            if parent_station and parent_station in stop_dict:\n",
        "                edge_weight = haversine_distance(\n",
        "                    (stop_dict[parent_station][1], stop_dict[parent_station][2]),\n",
        "                    (stop_dict[stop_id][1], stop_dict[stop_id][2])\n",
        "                )\n",
        "                transit_graph.add_edge(parent_station, stop_id, weight=edge_weight)\n",
        "\n",
        "    # Close the GTFS files\n",
        "    stops_file.close()\n",
        "    stop_times_file.close()\n",
        "\n",
        "    print(f\"Number of Nodes: {transit_graph.number_of_nodes()}\")\n",
        "    print(f\"Number of Edges: {transit_graph.number_of_edges()}\")\n",
        "    print(\"-----------------------------------------------------\")\n",
        "\n",
        "    return transit_graph, stop_dict\n"
      ],
      "metadata": {
        "id": "cmTpKC31pO7J"
      },
      "execution_count": 6,
      "outputs": []
    },
    {
      "cell_type": "markdown",
      "source": [
        "Verification of networks using Folium"
      ],
      "metadata": {
        "id": "5lKMCAEtlPzQ"
      }
    },
    {
      "cell_type": "code",
      "source": [
        "def plot_transit_graph_on_map(transit_graph, stop_dict, city_name, path):\n",
        "    \"\"\"Plot the transit graph on a map and display it.\"\"\"\n",
        "\n",
        "    #Calculation of average latitude and longitude of city networks to verify for correctness and to center the folium map around the average lat, lon\n",
        "    avg_lat = sum([coords[1] for coords in stop_dict.values()]) / len(stop_dict)\n",
        "    avg_lon = sum([coords[2] for coords in stop_dict.values()]) / len(stop_dict)\n",
        "    print(avg_lat,avg_lon)\n",
        "    m = folium.Map(location=[avg_lat, avg_lon], zoom_start=13)\n",
        "\n",
        "    #Adding nodes (stops) to the folium map\n",
        "    for stop_id, (stop_name, lat, lon) in stop_dict.items():\n",
        "        folium.CircleMarker(\n",
        "            location=[lat, lon],\n",
        "            radius=5,\n",
        "            color=\"red\",\n",
        "            fill=True,\n",
        "            fill_color=\"red\",\n",
        "            fill_opacity=1,\n",
        "            tooltip=stop_name\n",
        "        ).add_to(m)\n",
        "\n",
        "    #Adding edges (routes) to the folium map\n",
        "    for edge in transit_graph.edges():\n",
        "        coord1 = stop_dict[edge[0]][1], stop_dict[edge[0]][2]\n",
        "        coord2 = stop_dict[edge[1]][1], stop_dict[edge[1]][2]\n",
        "        folium.PolyLine([coord1, coord2], color=\"blue\").add_to(m)\n",
        "\n",
        "    # Save the map to an HTML file\n",
        "    filename = os.path.join(path, f\"{city_name}_transit_map.html\")\n",
        "    m.save(filename)\n",
        "    print(f\"Saved map for {city_name} to {filename}\")\n",
        "\n",
        "    return m"
      ],
      "metadata": {
        "id": "oqi6zLkNyDEY"
      },
      "execution_count": 10,
      "outputs": []
    },
    {
      "cell_type": "code",
      "source": [
        "city_lat_lon_ranges = {\n",
        "    'Aachen': ((50.7, 50.8), (6.0, 6.2)),\n",
        "    'Berlin': ((52.3, 52.7), (13.2, 13.6)),\n",
        "    'Frankfurt': ((50.0, 50.2), (8.6, 9.0)),\n",
        "    'Hamburg': ((53.4, 53.7), (9.8, 10.2)),\n",
        "    'Leipzig': ((51.2, 51.5), (12.2, 12.7)),\n",
        "    'Munich': ((48.0610, 48.2480), (11.3600, 11.7220)),\n",
        "    'Cologne': ((50.8300, 51.0500), (6.7900, 7.1100)),\n",
        "    'Stuttgart': ((48.6900, 48.8600), (9.1200, 9.3100)),\n",
        "    'Dortmund': ((51.4200, 51.6000), (7.3400, 7.6500)),\n",
        "    'Duesseldorf': ((51.1500, 51.3100), (6.6500, 6.9800))\n",
        "}\n",
        "\n",
        "\n",
        "#Plot the networks and the respective persistence diagrams\n",
        "for city_name, (lat_range, lon_range) in city_lat_lon_ranges.items():\n",
        "    transit_graph, stops = create_transit_graph(path, lat_range, lon_range)\n",
        "    plot_transit_graph_on_map(transit_graph, stops, city_name, path)\n",
        "\n",
        "    '''\n",
        "    print(f\"Map for {city_name}\")\n",
        "    m.save(f\"{city_name}_map.html\")  # Saves the map as an HTML file\n",
        "    display(m)\n",
        "    '''"
      ],
      "metadata": {
        "colab": {
          "base_uri": "https://localhost:8080/"
        },
        "id": "GZeOB53jyo2x",
        "outputId": "13633546-ce85-48ca-a20e-8690d4570a40"
      },
      "execution_count": null,
      "outputs": [
        {
          "output_type": "stream",
          "name": "stdout",
          "text": [
            "Number of Nodes: 1356\n",
            "Number of Edges: 2309\n",
            "-----------------------------------------------------\n",
            "50.76149288798823 6.1080684362564455\n",
            "Saved map for Aachen to /content/drive/MyDrive/GTFS/Local_Transit/Aachen_transit_map.html\n",
            "Number of Nodes: 10059\n",
            "Number of Edges: 16341\n",
            "-----------------------------------------------------\n",
            "52.50093074254479 13.398532347017927\n",
            "Saved map for Berlin to /content/drive/MyDrive/GTFS/Local_Transit/Berlin_transit_map.html\n",
            "Number of Nodes: 4548\n",
            "Number of Edges: 7374\n",
            "-----------------------------------------------------\n",
            "50.10994926027692 8.762096200483587\n",
            "Saved map for Frankfurt to /content/drive/MyDrive/GTFS/Local_Transit/Frankfurt_transit_map.html\n",
            "Number of Nodes: 6924\n",
            "Number of Edges: 10524\n",
            "-----------------------------------------------------\n",
            "53.557375040866404 10.011674993357378\n",
            "Saved map for Hamburg to /content/drive/MyDrive/GTFS/Local_Transit/Hamburg_transit_map.html\n",
            "Number of Nodes: 3634\n",
            "Number of Edges: 5929\n",
            "-----------------------------------------------------\n",
            "51.342412525997304 12.406693468500661\n",
            "Saved map for Leipzig to /content/drive/MyDrive/GTFS/Local_Transit/Leipzig_transit_map.html\n",
            "Number of Nodes: 5240\n",
            "Number of Edges: 8473\n",
            "-----------------------------------------------------\n",
            "48.143008770992274 11.547070453244276\n",
            "Saved map for Munich to /content/drive/MyDrive/GTFS/Local_Transit/Munich_transit_map.html\n",
            "Number of Nodes: 4212\n",
            "Number of Edges: 6487\n",
            "-----------------------------------------------------\n",
            "50.943483970106655 6.954999522941891\n",
            "Saved map for Cologne to /content/drive/MyDrive/GTFS/Local_Transit/Cologne_transit_map.html\n",
            "Number of Nodes: 1842\n",
            "Number of Edges: 2930\n",
            "-----------------------------------------------------\n",
            "48.77643913952235 9.20444685124865\n",
            "Saved map for Stuttgart to /content/drive/MyDrive/GTFS/Local_Transit/Stuttgart_transit_map.html\n",
            "Number of Nodes: 4199\n",
            "Number of Edges: 7063\n",
            "-----------------------------------------------------\n",
            "51.5085998761608 7.487479270754953\n",
            "Saved map for Dortmund to /content/drive/MyDrive/GTFS/Local_Transit/Dortmund_transit_map.html\n",
            "Number of Nodes: 3841\n",
            "Number of Edges: 6356\n",
            "-----------------------------------------------------\n",
            "51.22306307756383 6.810670744403966\n",
            "Saved map for Duesseldorf to /content/drive/MyDrive/GTFS/Local_Transit/Duesseldorf_transit_map.html\n"
          ]
        }
      ]
    },
    {
      "cell_type": "markdown",
      "source": [
        "Euler curves"
      ],
      "metadata": {
        "id": "pAGHvOGPxsgv"
      }
    },
    {
      "cell_type": "code",
      "source": [
        "def euler_char(graph):\n",
        "    return graph.number_of_nodes() - graph.number_of_edges()\n",
        "\n",
        "def filtration_by_edge_weight(graph, steps=100):\n",
        "    edge_weights = [data['weight'] for _, _, data in graph.edges(data=True)]\n",
        "    min_weight = min(edge_weights)\n",
        "    max_weight = max(edge_weights)\n",
        "\n",
        "    thresholds = np.linspace(min_weight, max_weight, steps)\n",
        "    euler_chars = []\n",
        "\n",
        "    for threshold in thresholds:\n",
        "        subgraph_edges = [(u, v) for u, v, data in graph.edges(data=True) if data['weight'] <= threshold]\n",
        "        subgraph = nx.Graph()\n",
        "        subgraph.add_edges_from(subgraph_edges)\n",
        "        euler_chars.append(euler_char(subgraph))\n",
        "\n",
        "    return thresholds, euler_chars"
      ],
      "metadata": {
        "id": "U8SjaLIYouE2"
      },
      "execution_count": 7,
      "outputs": []
    },
    {
      "cell_type": "code",
      "source": [
        "city_lat_lon_ranges = {\n",
        "    'Aachen': ((50.7, 50.8), (6.0, 6.2)),\n",
        "    'Berlin': ((52.3, 52.7), (13.2, 13.6)),\n",
        "    'Frankfurt': ((50.0, 50.2), (8.6, 9.0)),\n",
        "    'Hamburg': ((53.4, 53.7), (9.8, 10.2)),\n",
        "    'Leipzig': ((51.2, 51.5), (12.2, 12.7)),\n",
        "    'Munich': ((48.0610, 48.2480), (11.3600, 11.7220)),\n",
        "    'Cologne': ((50.8300, 51.0500), (6.7900, 7.1100)),\n",
        "    'Stuttgart': ((48.6900, 48.8600), (9.1200, 9.3100)),\n",
        "    'Dortmund': ((51.4200, 51.6000), (7.3400, 7.6500)),\n",
        "    'Duesseldorf': ((51.1500, 51.3100), (6.6500, 6.9800))\n",
        "}\n",
        "\n",
        "#Initialize plot dimensions\n",
        "plt.figure(figsize=(10, 6))\n",
        "\n",
        "#Plot the networks and the respective persistence diagrams\n",
        "for city_name, (lat_range, lon_range) in city_lat_lon_ranges.items():\n",
        "    transit_graph, stops = create_transit_graph(path, lat_range, lon_range)\n",
        "\n",
        "    thresholds, euler_chars = filtration_by_edge_weight(transit_graph)\n",
        "    plt.plot(thresholds, euler_chars, label=city_name)\n",
        "\n",
        "plt.xlabel('Edge Weight Threshold')\n",
        "plt.ylabel('Euler Characteristic')\n",
        "plt.title('Euler Curves for All Cities')\n",
        "plt.legend()\n",
        "plt.grid(True)\n",
        "#plt.axis('equal')\n",
        "#plt.tight_layout()\n",
        "\n",
        "#Plot on the same coordinate system\n",
        "plt.show()"
      ],
      "metadata": {
        "id": "foxMaE8ooQjr",
        "colab": {
          "base_uri": "https://localhost:8080/",
          "height": 1000
        },
        "outputId": "58c8fad1-6ef1-4776-b4dd-c39c20dd69d6"
      },
      "execution_count": 9,
      "outputs": [
        {
          "output_type": "stream",
          "name": "stdout",
          "text": [
            "Number of Nodes: 1356\n",
            "Number of Edges: 2309\n",
            "-----------------------------------------------------\n",
            "Number of Nodes: 10059\n",
            "Number of Edges: 16341\n",
            "-----------------------------------------------------\n",
            "Number of Nodes: 4548\n",
            "Number of Edges: 7374\n",
            "-----------------------------------------------------\n",
            "Number of Nodes: 6924\n",
            "Number of Edges: 10524\n",
            "-----------------------------------------------------\n",
            "Number of Nodes: 3634\n",
            "Number of Edges: 5929\n",
            "-----------------------------------------------------\n",
            "Number of Nodes: 5240\n",
            "Number of Edges: 8473\n",
            "-----------------------------------------------------\n",
            "Number of Nodes: 4212\n",
            "Number of Edges: 6487\n",
            "-----------------------------------------------------\n",
            "Number of Nodes: 1842\n",
            "Number of Edges: 2930\n",
            "-----------------------------------------------------\n",
            "Number of Nodes: 4199\n",
            "Number of Edges: 7063\n",
            "-----------------------------------------------------\n",
            "Number of Nodes: 3841\n",
            "Number of Edges: 6356\n",
            "-----------------------------------------------------\n"
          ]
        },
        {
          "output_type": "display_data",
          "data": {
            "text/plain": [
              "<Figure size 1000x600 with 1 Axes>"
            ],
            "image/png": "[encoded data removed]"
          },
          "metadata": {}
        }
      ]
    },
    {
      "cell_type": "code",
      "source": [],
      "metadata": {
        "id": "NC5jEAZZGl-4"
      },
      "execution_count": null,
      "outputs": []
    }
  ],
  "metadata": {
    "colab": {
      "provenance": []
    },
    "kernelspec": {
      "display_name": "Python 3",
      "name": "python3"
    },
    "language_info": {
      "name": "python"
    }
  },
  "nbformat": 4,
  "nbformat_minor": 0
}